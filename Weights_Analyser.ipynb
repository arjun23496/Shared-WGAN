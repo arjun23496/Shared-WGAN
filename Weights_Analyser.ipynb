{
 "cells": [
  {
   "cell_type": "code",
   "execution_count": 2,
   "metadata": {},
   "outputs": [
    {
     "name": "stdout",
     "output_type": "stream",
     "text": [
      "The autoreload extension is already loaded. To reload it, use:\n",
      "  %reload_ext autoreload\n"
     ]
    }
   ],
   "source": [
    "import numpy as np\n",
    "import matplotlib.pyplot as plt\n",
    "\n",
    "%matplotlib inline\n",
    "# plt.rcParams['figure.figsize'] = (10.0, 8.0) # set default size of plots\n",
    "# plt.rcParams['image.interpolation'] = 'nearest'\n",
    "plt.rcParams['image.cmap'] = 'gray'\n",
    "\n",
    "# for auto-reloading external modules\n",
    "# see http://stackoverflow.com/questions/1907993/autoreload-of-modules-in-ipython\n",
    "%load_ext autoreload\n",
    "%autoreload 2"
   ]
  },
  {
   "cell_type": "code",
   "execution_count": 3,
   "metadata": {
    "collapsed": true
   },
   "outputs": [],
   "source": [
    "baseline = {\n",
    "    \"gen\": None,\n",
    "    \"disc\": None\n",
    "}\n",
    "\n",
    "shared = {\n",
    "    \"gen\": None  # Discriminator is same as generator\n",
    "}\n",
    "\n",
    "baseline[\"gen\"] = np.load(\"completed/weights/baseline_generator.pkl\")\n",
    "baseline[\"disc\"] = np.load(\"completed/weights/baseline_discriminator.pkl\")\n",
    "\n",
    "shared[\"gen\"] = np.load(\"completed/weights/shared_discriminator.pkl\")"
   ]
  },
  {
   "cell_type": "code",
   "execution_count": 8,
   "metadata": {
    "scrolled": false
   },
   "outputs": [
    {
     "name": "stdout",
     "output_type": "stream",
     "text": [
      "shared architecture\n"
     ]
    },
    {
     "data": {
      "image/png": "[encoded data removed]",
      "text/plain": [
       "<matplotlib.figure.Figure at 0x7f86d3dd3fd0>"
      ]
     },
     "metadata": {},
     "output_type": "display_data"
    },
    {
     "data": {
      "image/png": "[encoded data removed]",
      "text/plain": [
       "<matplotlib.figure.Figure at 0x7f86d40880d0>"
      ]
     },
     "metadata": {},
     "output_type": "display_data"
    },
    {
     "data": {
      "image/png": "[encoded data removed]",
      "text/plain": [
       "<matplotlib.figure.Figure at 0x7f86d3d33210>"
      ]
     },
     "metadata": {},
     "output_type": "display_data"
    },
    {
     "data": {
      "image/png": "[encoded data removed]",
      "text/plain": [
       "<matplotlib.figure.Figure at 0x7f86d4025190>"
      ]
     },
     "metadata": {},
     "output_type": "display_data"
    },
    {
     "name": "stdout",
     "output_type": "stream",
     "text": [
      "discriminator\n"
     ]
    },
    {
     "data": {
      "image/png": "[encoded data removed]",
      "text/plain": [
       "<matplotlib.figure.Figure at 0x7f86d3d8e150>"
      ]
     },
     "metadata": {},
     "output_type": "display_data"
    },
    {
     "data": {
      "image/png": "[encoded data removed]",
      "text/plain": [
       "<matplotlib.figure.Figure at 0x7f86d3f93090>"
      ]
     },
     "metadata": {},
     "output_type": "display_data"
    },
    {
     "data": {
      "image/png": "[encoded data removed]",
      "text/plain": [
       "<matplotlib.figure.Figure at 0x7f86d3ec3d10>"
      ]
     },
     "metadata": {},
     "output_type": "display_data"
    },
    {
     "data": {
      "image/png": "[encoded data removed]",
      "text/plain": [
       "<matplotlib.figure.Figure at 0x7f86d3c7bfd0>"
      ]
     },
     "metadata": {},
     "output_type": "display_data"
    },
    {
     "name": "stdout",
     "output_type": "stream",
     "text": [
      "baseline gen\n"
     ]
    },
    {
     "data": {
      "image/png": "[encoded data removed]",
      "text/plain": [
       "<matplotlib.figure.Figure at 0x7f86d41988d0>"
      ]
     },
     "metadata": {},
     "output_type": "display_data"
    },
    {
     "data": {
      "image/png": "[encoded data removed]",
      "text/plain": [
       "<matplotlib.figure.Figure at 0x7f86fec63f50>"
      ]
     },
     "metadata": {},
     "output_type": "display_data"
    },
    {
     "data": {
      "image/png": "[encoded data removed]",
      "text/plain": [
       "<matplotlib.figure.Figure at 0x7f86d41931d0>"
      ]
     },
     "metadata": {},
     "output_type": "display_data"
    },
    {
     "data": {
      "image/png": "[encoded data removed]",
      "text/plain": [
       "<matplotlib.figure.Figure at 0x7f86d3f65090>"
      ]
     },
     "metadata": {},
     "output_type": "display_data"
    }
   ],
   "source": [
    "print \"shared architecture\"\n",
    "\n",
    "plt.rcParams['figure.figsize'] = (1.25, 1)\n",
    "\n",
    "plt.imshow(shared[\"gen\"][:, :, 0, 0])\n",
    "plt.show()\n",
    "plt.imshow(shared[\"gen\"][:, :, 0, 1])\n",
    "plt.show()\n",
    "plt.imshow(shared[\"gen\"][:, :, 0, 2])\n",
    "plt.show()\n",
    "plt.imshow(shared[\"gen\"][:, :, 0, 3])\n",
    "plt.show()\n",
    "\n",
    "print \"discriminator\"\n",
    "plt.imshow(baseline[\"disc\"][:, :, 0, 0])\n",
    "plt.show()\n",
    "plt.imshow(baseline[\"disc\"][:, :, 0, 1])\n",
    "plt.show()\n",
    "plt.imshow(baseline[\"disc\"][:, :, 0, 2])\n",
    "plt.show()\n",
    "plt.imshow(baseline[\"disc\"][:, :, 0, 3])\n",
    "plt.show()\n",
    "\n",
    "print \"baseline gen\"\n",
    "plt.imshow(baseline[\"gen\"][:, :, 0, 0])\n",
    "plt.show()\n",
    "plt.imshow(baseline[\"gen\"][:, :, 0, 1])\n",
    "plt.show()\n",
    "plt.imshow(baseline[\"gen\"][:, :, 0, 2])\n",
    "plt.show()\n",
    "plt.imshow(baseline[\"gen\"][:, :, 0, 3])\n",
    "plt.show()"
   ]
  },
  {
   "cell_type": "code",
   "execution_count": 4,
   "metadata": {
    "collapsed": true
   },
   "outputs": [],
   "source": [
    "def get_similarity(sim_1, sim_2):\n",
    "    a = sim1\n",
    "    b = sim2\n",
    "\n",
    "    print a.shape\n",
    "    print b.shape\n",
    "\n",
    "    similarity = []\n",
    "\n",
    "    for x1 in range(a.shape[2]):\n",
    "        print x1+1,\"/\",a.shape[2]\n",
    "        for y1 in range(a.shape[3]):\n",
    "            for x2 in range(b.shape[2]):\n",
    "                for y2 in range(b.shape[3]):\n",
    "                    x_vector = a[:, :, x1, y1].reshape([5, 5])\n",
    "                    y_vector = b[:, :, x2, y2].reshape([5, 5])\n",
    "\n",
    "                    x_vector = x_vector/np.linalg.norm(x_vector)\n",
    "                    y_vector = y_vector/np.linalg.norm(y_vector)\n",
    "\n",
    "                    sim = np.sum(x_vector * y_vector)\n",
    "\n",
    "                    similarity.append(sim)\n",
    "    return similarity"
   ]
  }
 ],
 "metadata": {
  "kernelspec": {
   "display_name": "Python 2",
   "language": "python",
   "name": "python2"
  },
  "language_info": {
   "codemirror_mode": {
    "name": "ipython",
    "version": 2
   },
   "file_extension": ".py",
   "mimetype": "text/x-python",
   "name": "python",
   "nbconvert_exporter": "python",
   "pygments_lexer": "ipython2",
   "version": "2.7.14"
  }
 },
 "nbformat": 4,
 "nbformat_minor": 2
}
