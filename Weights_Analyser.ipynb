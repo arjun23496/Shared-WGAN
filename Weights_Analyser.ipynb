{
 "cells": [
  {
   "cell_type": "code",
   "execution_count": 1,
   "metadata": {},
   "outputs": [],
   "source": [
    "import numpy as np\n",
    "import matplotlib.pyplot as plt\n",
    "\n",
    "%matplotlib inline\n",
    "# plt.rcParams['figure.figsize'] = (10.0, 8.0) # set default size of plots\n",
    "# plt.rcParams['image.interpolation'] = 'nearest'\n",
    "plt.rcParams['image.cmap'] = 'gray'\n",
    "\n",
    "# for auto-reloading external modules\n",
    "# see http://stackoverflow.com/questions/1907993/autoreload-of-modules-in-ipython\n",
    "%load_ext autoreload\n",
    "%autoreload 2"
   ]
  },
  {
   "cell_type": "code",
   "execution_count": 3,
   "metadata": {
    "collapsed": true
   },
   "outputs": [],
   "source": [
    "baseline = {\n",
    "    \"gen\": None,\n",
    "    \"disc\": None\n",
    "}\n",
    "\n",
    "shared = {\n",
    "    \"gen\": None  # Discriminator is same as generator\n",
    "}\n",
    "\n",
    "baseline[\"gen\"] = np.load(\"completed/weights/baseline_generator.pkl\")\n",
    "baseline[\"disc\"] = np.load(\"completed/weights/baseline_discriminator.pkl\")\n",
    "\n",
    "shared[\"gen\"] = np.load(\"completed/weights/shared_discriminator.pkl\")"
   ]
  },
  {
   "cell_type": "code",
   "execution_count": 4,
   "metadata": {
    "scrolled": false
   },
   "outputs": [
    {
     "name": "stdout",
     "output_type": "stream",
     "text": [
      "shared architecture\n"
     ]
    },
    {
     "data": {
      "image/png": "[encoded data removed]",
      "text/plain": [
       "<matplotlib.figure.Figure at 0x7f70f7761210>"
      ]
     },
     "metadata": {},
     "output_type": "display_data"
    },
    {
     "data": {
      "image/png": "[encoded data removed]",
      "text/plain": [
       "<matplotlib.figure.Figure at 0x7f70cccca250>"
      ]
     },
     "metadata": {},
     "output_type": "display_data"
    },
    {
     "data": {
      "image/png": "[encoded data removed]",
      "text/plain": [
       "<matplotlib.figure.Figure at 0x7f70ccbdb450>"
      ]
     },
     "metadata": {},
     "output_type": "display_data"
    },
    {
     "data": {
      "image/png": "[encoded data removed]",
      "text/plain": [
       "<matplotlib.figure.Figure at 0x7f70ccbb65d0>"
      ]
     },
     "metadata": {},
     "output_type": "display_data"
    },
    {
     "name": "stdout",
     "output_type": "stream",
     "text": [
      "discriminator\n"
     ]
    },
    {
     "data": {
      "image/png": "[encoded data removed]",
      "text/plain": [
       "<matplotlib.figure.Figure at 0x7f70ccb13790>"
      ]
     },
     "metadata": {},
     "output_type": "display_data"
    },
    {
     "data": {
      "image/png": "[encoded data removed]",
      "text/plain": [
       "<matplotlib.figure.Figure at 0x7f70ccae5550>"
      ]
     },
     "metadata": {},
     "output_type": "display_data"
    },
    {
     "data": {
      "image/png": "[encoded data removed]",
      "text/plain": [
       "<matplotlib.figure.Figure at 0x7f70cca96250>"
      ]
     },
     "metadata": {},
     "output_type": "display_data"
    },
    {
     "data": {
      "image/png": "[encoded data removed]",
      "text/plain": [
       "<matplotlib.figure.Figure at 0x7f70ccb88710>"
      ]
     },
     "metadata": {},
     "output_type": "display_data"
    },
    {
     "name": "stdout",
     "output_type": "stream",
     "text": [
      "baseline gen\n"
     ]
    },
    {
     "data": {
      "image/png": "[encoded data removed]",
      "text/plain": [
       "<matplotlib.figure.Figure at 0x7f70ccc66410>"
      ]
     },
     "metadata": {},
     "output_type": "display_data"
    },
    {
     "data": {
      "image/png": "[encoded data removed]",
      "text/plain": [
       "<matplotlib.figure.Figure at 0x7f70ccb0d490>"
      ]
     },
     "metadata": {},
     "output_type": "display_data"
    },
    {
     "data": {
      "image/png": "[encoded data removed]",
      "text/plain": [
       "<matplotlib.figure.Figure at 0x7f70ccbd6410>"
      ]
     },
     "metadata": {},
     "output_type": "display_data"
    },
    {
     "data": {
      "image/png": "[encoded data removed]",
      "text/plain": [
       "<matplotlib.figure.Figure at 0x7f70cca58390>"
      ]
     },
     "metadata": {},
     "output_type": "display_data"
    }
   ],
   "source": [
    "print \"shared architecture\"\n",
    "\n",
    "plt.rcParams['figure.figsize'] = (1.25, 1)\n",
    "\n",
    "plt.imshow(shared[\"gen\"][:, :, 0, 0])\n",
    "plt.show()\n",
    "plt.imshow(shared[\"gen\"][:, :, 0, 1])\n",
    "plt.show()\n",
    "plt.imshow(shared[\"gen\"][:, :, 0, 2])\n",
    "plt.show()\n",
    "plt.imshow(shared[\"gen\"][:, :, 0, 3])\n",
    "plt.show()\n",
    "\n",
    "print \"discriminator\"\n",
    "plt.imshow(baseline[\"disc\"][:, :, 0, 0])\n",
    "plt.show()\n",
    "plt.imshow(baseline[\"disc\"][:, :, 0, 1])\n",
    "plt.show()\n",
    "plt.imshow(baseline[\"disc\"][:, :, 0, 2])\n",
    "plt.show()\n",
    "plt.imshow(baseline[\"disc\"][:, :, 0, 3])\n",
    "plt.show()\n",
    "\n",
    "print \"baseline gen\"\n",
    "plt.imshow(baseline[\"gen\"][:, :, 0, 0])\n",
    "plt.show()\n",
    "plt.imshow(baseline[\"gen\"][:, :, 0, 1])\n",
    "plt.show()\n",
    "plt.imshow(baseline[\"gen\"][:, :, 0, 2])\n",
    "plt.show()\n",
    "plt.imshow(baseline[\"gen\"][:, :, 0, 3])\n",
    "plt.show()"
   ]
  },
  {
   "cell_type": "code",
   "execution_count": 7,
   "metadata": {
    "collapsed": true
   },
   "outputs": [],
   "source": [
    "def get_similarity(sim_1, sim_2):\n",
    "    a = sim_1\n",
    "    b = sim_2\n",
    "\n",
    "    print a.shape\n",
    "    print b.shape\n",
    "\n",
    "    similarity = []\n",
    "\n",
    "    for x1 in range(a.shape[2]):\n",
    "        print x1+1,\"/\",a.shape[2]\n",
    "        for y1 in range(a.shape[3]):\n",
    "            sim_local = []\n",
    "            for x2 in range(b.shape[2]):\n",
    "                for y2 in range(b.shape[3]):\n",
    "                    x_vector = a[:, :, x1, y1].reshape([5, 5])\n",
    "                    y_vector = b[:, :, x2, y2].reshape([5, 5])\n",
    "\n",
    "                    x_vector = x_vector/np.linalg.norm(x_vector)\n",
    "                    y_vector = y_vector/np.linalg.norm(y_vector)\n",
    "\n",
    "                    sim = np.sum(x_vector * y_vector)\n",
    "\n",
    "                    sim_local.append(sim)\n",
    "            \n",
    "            similarity.append(np.max(sim_local))\n",
    "    return similarity"
   ]
  },
  {
   "cell_type": "code",
   "execution_count": 8,
   "metadata": {},
   "outputs": [
    {
     "name": "stdout",
     "output_type": "stream",
     "text": [
      "(5, 5, 64, 64)\n",
      "(5, 5, 64, 64)\n",
      "1 / 64\n",
      "2 / 64\n",
      "3 / 64\n",
      "4 / 64\n",
      "5 / 64\n",
      "6 / 64\n",
      "7 / 64\n",
      "8 / 64\n",
      "9 / 64\n",
      "10 / 64\n",
      "11 / 64\n",
      "12 / 64\n",
      "13 / 64\n",
      "14 / 64\n",
      "15 / 64\n",
      "16 / 64\n",
      "17 / 64\n",
      "18 / 64\n",
      "19 / 64\n",
      "20 / 64\n",
      "21 / 64\n",
      "22 / 64\n",
      "23 / 64\n",
      "24 / 64\n",
      "25 / 64\n",
      "26 / 64\n",
      "27 / 64\n",
      "28 / 64\n",
      "29 / 64\n",
      "30 / 64\n",
      "31 / 64\n",
      "32 / 64\n",
      "33 / 64\n",
      "34 / 64\n",
      "35 / 64\n",
      "36 / 64\n",
      "37 / 64\n",
      "38 / 64\n",
      "39 / 64\n",
      "40 / 64\n",
      "41 / 64\n",
      "42 / 64\n",
      "43 / 64\n",
      "44 / 64\n",
      "45 / 64\n",
      "46 / 64\n",
      "47 / 64\n",
      "48 / 64\n",
      "49 / 64\n",
      "50 / 64\n",
      "51 / 64\n",
      "52 / 64\n",
      "53 / 64\n",
      "54 / 64\n",
      "55 / 64\n",
      "56 / 64\n",
      "57 / 64\n",
      "58 / 64\n",
      "59 / 64\n",
      "60 / 64\n",
      "61 / 64\n",
      "62 / 64\n",
      "63 / 64\n",
      "64 / 64\n"
     ]
    },
    {
     "data": {
      "text/plain": [
       "(array([   1.,    2.,   24.,   60.,  134.,  269.,  329.,  440.,  529.,\n",
       "         535.,  490.,  433.,  295.,  251.,  128.,   91.,   42.,   27.,\n",
       "          10.,    6.]),\n",
       " array([ 0.45530802,  0.47530003,  0.49529205,  0.51528406,  0.53527608,\n",
       "         0.55526809,  0.57526011,  0.59525212,  0.61524414,  0.63523615,\n",
       "         0.65522817,  0.67522018,  0.6952122 ,  0.71520421,  0.73519623,\n",
       "         0.75518824,  0.77518026,  0.79517227,  0.81516429,  0.8351563 ,\n",
       "         0.85514832]),\n",
       " <a list of 20 Patch objects>)"
      ]
     },
     "execution_count": 8,
     "metadata": {},
     "output_type": "execute_result"
    },
    {
     "data": {
      "image/png": "[encoded data removed]",
      "text/plain": [
       "<matplotlib.figure.Figure at 0x7f70d005ca90>"
      ]
     },
     "metadata": {},
     "output_type": "display_data"
    }
   ],
   "source": [
    "sim = get_similarity(baseline[\"gen\"], baseline[\"disc\"])\n",
    "\n",
    "plt.hist(sim, bins=20)"
   ]
  },
  {
   "cell_type": "code",
   "execution_count": 10,
   "metadata": {},
   "outputs": [
    {
     "data": {
      "image/png": "[encoded data removed]",
      "text/plain": [
       "<matplotlib.figure.Figure at 0x7f70cc8635d0>"
      ]
     },
     "metadata": {},
     "output_type": "display_data"
    }
   ],
   "source": [
    "plt.rcParams['figure.figsize'] = (5, 5)\n",
    "\n",
    "plt.hist(sim, bins=20)\n",
    "plt.show()"
   ]
  },
  {
   "cell_type": "code",
   "execution_count": 16,
   "metadata": {},
   "outputs": [
    {
     "data": {
      "image/png": "[encoded data removed]",
      "text/plain": [
       "<matplotlib.figure.Figure at 0x7f70cc3a8b90>"
      ]
     },
     "metadata": {},
     "output_type": "display_data"
    },
    {
     "data": {
      "image/png": "[encoded data removed]",
      "text/plain": [
       "<matplotlib.figure.Figure at 0x7f70cc3424d0>"
      ]
     },
     "metadata": {},
     "output_type": "display_data"
    },
    {
     "data": {
      "image/png": "[encoded data removed]",
      "text/plain": [
       "<matplotlib.figure.Figure at 0x7f70cc281190>"
      ]
     },
     "metadata": {},
     "output_type": "display_data"
    }
   ],
   "source": [
    "plt.hist(shared[\"gen\"].flatten(), bins=20)\n",
    "plt.show()\n",
    "\n",
    "plt.hist(baseline[\"gen\"].flatten(), bins=20)\n",
    "plt.show()\n",
    "\n",
    "plt.hist(baseline[\"disc\"].flatten(), bins=20)\n",
    "plt.show()"
   ]
  }
 ],
 "metadata": {
  "kernelspec": {
   "display_name": "Python 2",
   "language": "python",
   "name": "python2"
  },
  "language_info": {
   "codemirror_mode": {
    "name": "ipython",
    "version": 2
   },
   "file_extension": ".py",
   "mimetype": "text/x-python",
   "name": "python",
   "nbconvert_exporter": "python",
   "pygments_lexer": "ipython2",
   "version": "2.7.14"
  }
 },
 "nbformat": 4,
 "nbformat_minor": 2
}
